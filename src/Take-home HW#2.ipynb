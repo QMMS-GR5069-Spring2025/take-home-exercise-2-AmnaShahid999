{
 "cells": [
  {
   "cell_type": "code",
   "execution_count": 0,
   "metadata": {
    "application/vnd.databricks.v1+cell": {
     "cellMetadata": {
      "byteLimit": 2048000,
      "rowLimit": 10000
     },
     "inputWidgets": {},
     "nuid": "5b878dc3-9b4b-45cd-a6b1-95494220f980",
     "showTitle": false,
     "tableResultSettingsMap": {},
     "title": ""
    }
   },
   "outputs": [],
   "source": [
    "import pandas as pd\n",
    "import numpy as np\n",
    "from pyspark.sql.types import IntegerType, FloatType\n",
    "from pyspark.sql.functions import avg, current_date, col, year, date_diff,floor, count\n",
    "from pyspark.sql import functions as F\n",
    "from pyspark.sql import Window\n",
    "from pyspark.sql.functions import min, max, sum, lit, desc, asc\n",
    "from pyspark.sql.functions import col, upper, substring, when\n",
    "     \n"
   ]
  },
  {
   "cell_type": "code",
   "execution_count": 0,
   "metadata": {
    "application/vnd.databricks.v1+cell": {
     "cellMetadata": {
      "byteLimit": 2048000,
      "rowLimit": 10000
     },
     "inputWidgets": {},
     "nuid": "e707b7c3-78ed-4006-855d-0ef6736fb714",
     "showTitle": false,
     "tableResultSettingsMap": {},
     "title": ""
    }
   },
   "outputs": [],
   "source": [
    "df_pitstops = spark.read.csv('s3://columbia-gr5069-main/raw/pit_stops.csv',header=True)\n",
    "df_pitstops.display()"
   ]
  },
  {
   "cell_type": "markdown",
   "metadata": {
    "application/vnd.databricks.v1+cell": {
     "cellMetadata": {},
     "inputWidgets": {},
     "nuid": "946977d8-013a-414b-b470-9998367bf28e",
     "showTitle": false,
     "tableResultSettingsMap": {},
     "title": ""
    }
   },
   "source": [
    "###Q1:[10 pts] What was the average time each driver spent at the pit stop for each race?\n"
   ]
  },
  {
   "cell_type": "code",
   "execution_count": 0,
   "metadata": {
    "application/vnd.databricks.v1+cell": {
     "cellMetadata": {
      "byteLimit": 2048000,
      "rowLimit": 10000
     },
     "inputWidgets": {},
     "nuid": "3391da4f-5e54-48f5-8a55-e5d30742e690",
     "showTitle": false,
     "tableResultSettingsMap": {},
     "title": ""
    }
   },
   "outputs": [],
   "source": [
    "# Cast columns to FloatType\n",
    "df_pitstops = df_pitstops.withColumn('milliseconds', df_pitstops['milliseconds'].cast(FloatType()))\n",
    "display(df_pitstops)"
   ]
  },
  {
   "cell_type": "code",
   "execution_count": 0,
   "metadata": {
    "application/vnd.databricks.v1+cell": {
     "cellMetadata": {
      "byteLimit": 2048000,
      "rowLimit": 10000
     },
     "inputWidgets": {},
     "nuid": "0e531145-5a08-438c-a849-d9ad8ce07a71",
     "showTitle": false,
     "tableResultSettingsMap": {},
     "title": ""
    }
   },
   "outputs": [],
   "source": [
    "\n",
    "avg_pitstop_time = df_pitstops.groupBy('driverId','raceId').agg(avg(col('milliseconds')).alias('avg_pitstop_time'))\n",
    "avg_pitstop_time.display()"
   ]
  },
  {
   "cell_type": "markdown",
   "metadata": {
    "application/vnd.databricks.v1+cell": {
     "cellMetadata": {},
     "inputWidgets": {},
     "nuid": "215abf38-fc9f-4fee-bfce-abb7f3943f76",
     "showTitle": false,
     "tableResultSettingsMap": {},
     "title": ""
    }
   },
   "source": [
    "###Q2:[20 pts] Rank the average time spent at the pit stop in order of who won each race"
   ]
  },
  {
   "cell_type": "code",
   "execution_count": 0,
   "metadata": {
    "application/vnd.databricks.v1+cell": {
     "cellMetadata": {
      "byteLimit": 2048000,
      "rowLimit": 10000
     },
     "inputWidgets": {},
     "nuid": "f0210551-60e1-438b-abe2-7009c7ddc847",
     "showTitle": false,
     "tableResultSettingsMap": {},
     "title": ""
    }
   },
   "outputs": [],
   "source": [
    "race_results = spark.read.csv('s3://columbia-gr5069-main/raw/results.csv', header=True)\n",
    "display(race_results)"
   ]
  },
  {
   "cell_type": "code",
   "execution_count": 0,
   "metadata": {
    "application/vnd.databricks.v1+cell": {
     "cellMetadata": {
      "byteLimit": 2048000,
      "rowLimit": 10000
     },
     "inputWidgets": {},
     "nuid": "251f454d-d906-453f-ab15-fe4636a6ed65",
     "showTitle": false,
     "tableResultSettingsMap": {},
     "title": ""
    }
   },
   "outputs": [],
   "source": [
    "#want to combine race_results with avg_pitstop_time\n",
    "pitstops_driver_avg_time = avg_pitstop_time.join(race_results, on=['raceId','driverId'], how='inner')\n",
    "display(pitstops_driver_avg_time)"
   ]
  },
  {
   "cell_type": "code",
   "execution_count": 0,
   "metadata": {
    "application/vnd.databricks.v1+cell": {
     "cellMetadata": {
      "byteLimit": 2048000,
      "rowLimit": 10000
     },
     "inputWidgets": {},
     "nuid": "de96476e-9973-4acb-b324-59357c56ee91",
     "showTitle": false,
     "tableResultSettingsMap": {
      "0": {
       "filterBlob": "{\"filterGroups\":[],\"syncTimestamp\":1742536249879}",
       "tableResultIndex": 0
      }
     },
     "title": ""
    }
   },
   "outputs": [],
   "source": [
    "#want to see the average pit stop time for each driver for each race depending on his position\n",
    "rank_avg=pitstops_driver_avg_time.groupBy('raceId','driverId','rank').agg(avg(col('avg_pitstop_time')).alias('avg_pit_milliseconds'))\n",
    "#want ascending order\n",
    "\n",
    "rank_avg=rank_avg.orderBy('rank', ascending=True)\n",
    "display(rank_avg)"
   ]
  },
  {
   "cell_type": "markdown",
   "metadata": {
    "application/vnd.databricks.v1+cell": {
     "cellMetadata": {},
     "inputWidgets": {},
     "nuid": "ba023845-8914-417b-b30c-e656baee6adf",
     "showTitle": false,
     "tableResultSettingsMap": {},
     "title": ""
    }
   },
   "source": [
    "###3.[20 pts] Insert the missing code (e.g: ALO for Alonso) for drivers based on the 'drivers' dataset\n"
   ]
  },
  {
   "cell_type": "code",
   "execution_count": 0,
   "metadata": {
    "application/vnd.databricks.v1+cell": {
     "cellMetadata": {
      "byteLimit": 2048000,
      "rowLimit": 10000
     },
     "collapsed": true,
     "inputWidgets": {},
     "nuid": "05e97299-37ba-4df9-9872-583b2cfafe57",
     "showTitle": false,
     "tableResultSettingsMap": {},
     "title": ""
    }
   },
   "outputs": [],
   "source": [
    "df_drivers= spark.read.csv('s3://columbia-gr5069-main/raw/drivers.csv', \n",
    "                            header=True)\n",
    "display(df_drivers)"
   ]
  },
  {
   "cell_type": "code",
   "execution_count": 0,
   "metadata": {
    "application/vnd.databricks.v1+cell": {
     "cellMetadata": {
      "byteLimit": 2048000,
      "rowLimit": 10000
     },
     "inputWidgets": {},
     "nuid": "9aa22c4d-90d4-4293-b5c9-f756b8026497",
     "showTitle": false,
     "tableResultSettingsMap": {},
     "title": ""
    }
   },
   "outputs": [],
   "source": [
    "%python\n",
    "# Update the 'code' column\n",
    "df_drivers = df_drivers.withColumn('code', upper(substring(col('surname'), 1, 3)))\n",
    "\n",
    "# Create the 'code_complete' column\n",
    "df_drivers = df_drivers.withColumn('code_complete', when(col('code') == '/N', 'N').otherwise('Y'))\n",
    "\n",
    "# Display the result\n",
    "display(df_drivers)"
   ]
  },
  {
   "cell_type": "markdown",
   "metadata": {
    "application/vnd.databricks.v1+cell": {
     "cellMetadata": {},
     "inputWidgets": {},
     "nuid": "760c89fb-f92e-47bd-8d5b-e004f29e268a",
     "showTitle": false,
     "tableResultSettingsMap": {},
     "title": ""
    }
   },
   "source": [
    "###4.[20 pts] Who is the youngest and oldest driver for each race? Create a new column called “Age”\n"
   ]
  },
  {
   "cell_type": "code",
   "execution_count": 0,
   "metadata": {
    "application/vnd.databricks.v1+cell": {
     "cellMetadata": {
      "byteLimit": 2048000,
      "rowLimit": 10000
     },
     "inputWidgets": {},
     "nuid": "9a602d34-999f-4b9d-b6d0-ccab6372fd06",
     "showTitle": false,
     "tableResultSettingsMap": {},
     "title": ""
    }
   },
   "outputs": [],
   "source": [
    "#First i will calculate the age using drivers dataframe and the column dob\n",
    "from pyspark.sql.functions import current_date, datediff, col\n",
    "\n",
    "df_drivers = df_drivers.withColumn('age', (datediff(current_date(), col('dob')) / 365.25).cast('int'))\n",
    "\n",
    "# Display the result\n",
    "display(df_drivers)\n",
    "\n",
    "#I could have divided by 365 but the 0.25 takes leap years into account"
   ]
  },
  {
   "cell_type": "code",
   "execution_count": 0,
   "metadata": {
    "application/vnd.databricks.v1+cell": {
     "cellMetadata": {
      "byteLimit": 2048000,
      "rowLimit": 10000
     },
     "inputWidgets": {},
     "nuid": "6c2b02bf-50a3-4a5e-9bf8-45212e92794d",
     "showTitle": false,
     "tableResultSettingsMap": {},
     "title": ""
    }
   },
   "outputs": [],
   "source": [
    "#now i want to join the race results with the drivers dataframe\n",
    "# Join the race_results with the df_drivers dataframe\n",
    "df_joined = race_results.join(df_drivers, on='driverId', how='inner')\n",
    "\n",
    "# Display the result\n",
    "display(df_joined)"
   ]
  },
  {
   "cell_type": "code",
   "execution_count": 0,
   "metadata": {
    "application/vnd.databricks.v1+cell": {
     "cellMetadata": {
      "byteLimit": 2048000,
      "rowLimit": 10000
     },
     "inputWidgets": {},
     "nuid": "39cfd44f-2f45-4b04-9a41-7a9dec6568a8",
     "showTitle": false,
     "tableResultSettingsMap": {},
     "title": ""
    }
   },
   "outputs": [],
   "source": [
    "#After having joined the two dataframes, i will calculate the youngest and oldest driver for each race one by one\n",
    "#for youngest\n",
    "# Calculate the youngest and oldest driver for each race\n",
    "df_age_youngest = df_joined.groupBy('raceId', 'surname').agg(\n",
    "    min('age').alias('youngest_age'),\n",
    ")\n",
    "\n",
    "# Display the result\n",
    "display(df_age_youngest)\n",
    "\n"
   ]
  },
  {
   "cell_type": "code",
   "execution_count": 0,
   "metadata": {
    "application/vnd.databricks.v1+cell": {
     "cellMetadata": {
      "byteLimit": 2048000,
      "rowLimit": 10000
     },
     "inputWidgets": {},
     "nuid": "2a98e6bd-0050-42be-b865-3cfb6cd490b7",
     "showTitle": false,
     "tableResultSettingsMap": {},
     "title": ""
    }
   },
   "outputs": [],
   "source": [
    "# Calculate the youngest and oldest driver for each race\n",
    "df_age_oldest = df_joined.groupBy('raceId', 'surname').agg(\n",
    "    max('age').alias('oldest_age'),\n",
    ")\n",
    "\n",
    "# Display the result\n",
    "display(df_age_oldest)"
   ]
  },
  {
   "cell_type": "code",
   "execution_count": 0,
   "metadata": {
    "application/vnd.databricks.v1+cell": {
     "cellMetadata": {
      "byteLimit": 2048000,
      "rowLimit": 10000
     },
     "inputWidgets": {},
     "nuid": "90441786-a289-4aa7-8524-b7fc6179b2df",
     "showTitle": false,
     "tableResultSettingsMap": {},
     "title": ""
    }
   },
   "outputs": [],
   "source": [
    "%python\n",
    "\n",
    "# Calculate the youngest and oldest driver for each race and surname\n",
    "df_age_extremes = df_joined.groupBy('raceId', 'surname').agg(\n",
    "    min('age').alias('youngest_age'),\n",
    "    max('age').alias('oldest_age')\n",
    ")\n",
    "\n",
    "# Display the result\n",
    "display(df_age_extremes)"
   ]
  },
  {
   "cell_type": "markdown",
   "metadata": {
    "application/vnd.databricks.v1+cell": {
     "cellMetadata": {},
     "inputWidgets": {},
     "nuid": "308f064e-80d5-4d8a-a579-f53637f465dc",
     "showTitle": false,
     "tableResultSettingsMap": {},
     "title": ""
    }
   },
   "source": [
    "###5.[20 pts] For a given race, which driver has the most wins and losses?"
   ]
  },
  {
   "cell_type": "code",
   "execution_count": 0,
   "metadata": {
    "application/vnd.databricks.v1+cell": {
     "cellMetadata": {
      "byteLimit": 2048000,
      "rowLimit": 10000
     },
     "inputWidgets": {},
     "nuid": "9b4db1a1-ebb4-42cc-b306-888c5267a9f2",
     "showTitle": false,
     "tableResultSettingsMap": {},
     "title": ""
    }
   },
   "outputs": [],
   "source": [
    "\n",
    "#loading driver_standings data\n",
    "df_wins= spark.read.csv('s3://columbia-gr5069-main/raw/driver_standings.csv', \n",
    "                            header=True)\n",
    "display(df_wins)"
   ]
  },
  {
   "cell_type": "code",
   "execution_count": 0,
   "metadata": {
    "application/vnd.databricks.v1+cell": {
     "cellMetadata": {
      "byteLimit": 2048000,
      "rowLimit": 10000
     },
     "inputWidgets": {},
     "nuid": "5bee4c9c-ab99-459c-919b-8d64b3412b0b",
     "showTitle": false,
     "tableResultSettingsMap": {},
     "title": ""
    }
   },
   "outputs": [],
   "source": [
    "# Create a new column 'loss' where all non-1 values in 'wins' are considered as a loss\n",
    "df_wins = df_wins.withColumn('loss', when(col('wins') != 1, 1).otherwise(0))\n",
    "\n",
    "# Group by 'raceId' and 'driverId' and sum the number of wins for each driver in each race\n",
    "df_win_count = df_wins.groupBy('raceId', 'driverId').agg(sum(col('wins')).alias('wins_count'))\n",
    "\n",
    "df_loss_count = df_wins.groupBy('raceId', 'driverId').agg(sum(col('loss')).alias('losses_count'))\n",
    "\n",
    "# Display the result\n",
    "display(df_win_count)\n",
    "display(df_loss_count)\n"
   ]
  },
  {
   "cell_type": "code",
   "execution_count": 0,
   "metadata": {
    "application/vnd.databricks.v1+cell": {
     "cellMetadata": {
      "byteLimit": 2048000,
      "rowLimit": 10000
     },
     "inputWidgets": {},
     "nuid": "f6970e5b-6ba6-4e3c-ae62-bdf7687c205a",
     "showTitle": false,
     "tableResultSettingsMap": {},
     "title": ""
    }
   },
   "outputs": [],
   "source": [
    "# Join the wins and losses DataFrames\n",
    "df_win_loss = df_win_count.join(df_loss_count, on=['raceId', 'driverId'], how='outer')\n",
    "display(df_win_loss)"
   ]
  },
  {
   "cell_type": "code",
   "execution_count": 0,
   "metadata": {
    "application/vnd.databricks.v1+cell": {
     "cellMetadata": {
      "byteLimit": 2048000,
      "rowLimit": 10000
     },
     "inputWidgets": {},
     "nuid": "f0db0496-de2e-4ee0-bfd9-55dd5e38751a",
     "showTitle": false,
     "tableResultSettingsMap": {},
     "title": ""
    }
   },
   "outputs": [],
   "source": [
    "#want surnames to know which driver ID belongs to which driver so should join the two dataframes df_drivers, df_wins_losses using raceID and driverID\n",
    "df_standings = df_win_loss.join(df_drivers, on=['driverId'], how='outer')\n",
    "display(df_standings)\n",
    "\n",
    "\n"
   ]
  },
  {
   "cell_type": "code",
   "execution_count": 0,
   "metadata": {
    "application/vnd.databricks.v1+cell": {
     "cellMetadata": {
      "byteLimit": 2048000,
      "rowLimit": 10000
     },
     "inputWidgets": {},
     "nuid": "0e168637-7d18-4644-b1f0-57e62cb993a1",
     "showTitle": false,
     "tableResultSettingsMap": {},
     "title": ""
    }
   },
   "outputs": [],
   "source": [
    "#group wins and losses by race id driver id and surame\n",
    "df_standings = df_standings.groupBy('raceId', 'driverId', 'surname').agg(sum('wins_count').alias('wins_count'), sum('losses_count').alias('losses_count'))\n",
    "display(df_standings)"
   ]
  },
  {
   "cell_type": "markdown",
   "metadata": {
    "application/vnd.databricks.v1+cell": {
     "cellMetadata": {},
     "inputWidgets": {},
     "nuid": "c656e800-33d9-4bfd-b28c-b3a02be9032b",
     "showTitle": false,
     "tableResultSettingsMap": {},
     "title": ""
    }
   },
   "source": [
    "###6.[10 pts] Continue exploring the data by answering your own question.\n",
    "My Question:Which drivers have won and lost the most races overall?"
   ]
  },
  {
   "cell_type": "code",
   "execution_count": 0,
   "metadata": {
    "application/vnd.databricks.v1+cell": {
     "cellMetadata": {
      "byteLimit": 2048000,
      "rowLimit": 10000
     },
     "inputWidgets": {},
     "nuid": "a77b57af-a8c5-475b-9040-aaa70347b4ff",
     "showTitle": false,
     "tableResultSettingsMap": {},
     "title": ""
    }
   },
   "outputs": [],
   "source": [
    "df_sum_win=df_standings.groupBy('surname', 'driverId').agg(sum('wins_count').alias('wins_count'))\n",
    "#want descending order\n",
    "df_sum_win=df_sum_win.orderBy(col('wins_count').desc())\n",
    "display(df_sum_win)"
   ]
  },
  {
   "cell_type": "code",
   "execution_count": 0,
   "metadata": {
    "application/vnd.databricks.v1+cell": {
     "cellMetadata": {
      "byteLimit": 2048000,
      "rowLimit": 10000
     },
     "inputWidgets": {},
     "nuid": "c10f5d82-74df-4578-a1f1-c112aaad7a47",
     "showTitle": false,
     "tableResultSettingsMap": {},
     "title": ""
    }
   },
   "outputs": [],
   "source": [
    "df_sum_loss=df_standings.groupBy('surname', 'driverId').agg(sum('losses_count').alias('losses_count'))\n",
    "#want descending order\n",
    "df_sum_loss=df_sum_loss.orderBy(col('losses_count').desc())\n",
    "display(df_sum_loss)"
   ]
  }
 ],
 "metadata": {
  "application/vnd.databricks.v1+notebook": {
   "computePreferences": null,
   "dashboards": [],
   "environmentMetadata": {
    "base_environment": "",
    "environment_version": "2"
   },
   "language": "python",
   "notebookMetadata": {
    "pythonIndentUnit": 4
   },
   "notebookName": "Take-home HW#2",
   "widgets": {}
  },
  "language_info": {
   "name": "python"
  }
 },
 "nbformat": 4,
 "nbformat_minor": 0
}
