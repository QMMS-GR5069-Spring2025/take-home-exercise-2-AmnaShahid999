{
 "cells": [
  {
   "cell_type": "code",
   "execution_count": 0,
   "metadata": {
    "application/vnd.databricks.v1+cell": {
     "cellMetadata": {
      "byteLimit": 2048000,
      "rowLimit": 10000
     },
     "inputWidgets": {},
     "nuid": "5b878dc3-9b4b-45cd-a6b1-95494220f980",
     "showTitle": false,
     "tableResultSettingsMap": {},
     "title": ""
    }
   },
   "outputs": [],
   "source": [
    "import pandas as pd\n",
    "import numpy as np\n",
    "from pyspark.sql.types import IntegerType, FloatType\n",
    "from pyspark.sql.functions import avg, current_date, col, year, date_diff,floor, count\n",
    "from pyspark.sql import functions as F\n",
    "from pyspark.sql import Window\n",
    "from pyspark.sql.functions import min, max, sum, lit, desc, asc\n",
    "from pyspark.sql.functions import col, upper, substring, when\n",
    "     \n"
   ]
  },
  {
   "cell_type": "code",
   "execution_count": 0,
   "metadata": {
    "application/vnd.databricks.v1+cell": {
     "cellMetadata": {
      "byteLimit": 2048000,
      "rowLimit": 10000
     },
     "inputWidgets": {},
     "nuid": "e707b7c3-78ed-4006-855d-0ef6736fb714",
     "showTitle": false,
     "tableResultSettingsMap": {},
     "title": ""
    }
   },
   "outputs": [],
   "source": [
    "df_pitstops = spark.read.csv('s3://columbia-gr5069-main/raw/pit_stops.csv',header=True)\n",
    "df_pitstops.display()"
   ]
  },
  {
   "cell_type": "markdown",
   "metadata": {
    "application/vnd.databricks.v1+cell": {
     "cellMetadata": {
      "byteLimit": 2048000,
      "rowLimit": 10000
     },
     "inputWidgets": {},
     "nuid": "946977d8-013a-414b-b470-9998367bf28e",
     "showTitle": false,
     "tableResultSettingsMap": {},
     "title": ""
    }
   },
   "source": [
    "###Q1:[10 pts] What was the average time each driver spent at the pit stop for each race?\n"
   ]
  },
  {
   "cell_type": "code",
   "execution_count": 0,
   "metadata": {
    "application/vnd.databricks.v1+cell": {
     "cellMetadata": {
      "byteLimit": 2048000,
      "rowLimit": 10000
     },
     "inputWidgets": {},
     "nuid": "3391da4f-5e54-48f5-8a55-e5d30742e690",
     "showTitle": false,
     "tableResultSettingsMap": {},
     "title": ""
    }
   },
   "outputs": [],
   "source": [
    "# Cast columns to FloatType\n",
    "df_pitstops = df_pitstops.withColumn('milliseconds', df_pitstops['milliseconds'].cast(FloatType()))\n",
    "display(df_pitstops)"
   ]
  },
  {
   "cell_type": "code",
   "execution_count": 0,
   "metadata": {
    "application/vnd.databricks.v1+cell": {
     "cellMetadata": {
      "byteLimit": 2048000,
      "rowLimit": 10000
     },
     "inputWidgets": {},
     "nuid": "0e531145-5a08-438c-a849-d9ad8ce07a71",
     "showTitle": false,
     "tableResultSettingsMap": {},
     "title": ""
    }
   },
   "outputs": [],
   "source": [
    "\n",
    "avg_pitstop_time = df_pitstops.groupBy('driverId','raceId').agg(avg(col('milliseconds')).alias('avg_pitstop_time'))\n",
    "avg_pitstop_time.display()\n",
    "#see the values when driverID==1 and raceID=1072 and 1078"
   ]
  },
  {
   "cell_type": "markdown",
   "metadata": {
    "application/vnd.databricks.v1+cell": {
     "cellMetadata": {
      "byteLimit": 2048000,
      "rowLimit": 10000
     },
     "inputWidgets": {},
     "nuid": "215abf38-fc9f-4fee-bfce-abb7f3943f76",
     "showTitle": false,
     "tableResultSettingsMap": {},
     "title": ""
    }
   },
   "source": [
    "###Q2:[20 pts] Rank the average time spent at the pit stop in order of who won each race"
   ]
  },
  {
   "cell_type": "code",
   "execution_count": 0,
   "metadata": {
    "application/vnd.databricks.v1+cell": {
     "cellMetadata": {
      "byteLimit": 2048000,
      "rowLimit": 10000
     },
     "inputWidgets": {},
     "nuid": "f0210551-60e1-438b-abe2-7009c7ddc847",
     "showTitle": false,
     "tableResultSettingsMap": {},
     "title": ""
    }
   },
   "outputs": [],
   "source": [
    "race_results = spark.read.csv('s3://columbia-gr5069-main/raw/results.csv', header=True)\n",
    "display(race_results)"
   ]
  },
  {
   "cell_type": "code",
   "execution_count": 0,
   "metadata": {
    "application/vnd.databricks.v1+cell": {
     "cellMetadata": {
      "byteLimit": 2048000,
      "rowLimit": 10000
     },
     "inputWidgets": {},
     "nuid": "251f454d-d906-453f-ab15-fe4636a6ed65",
     "showTitle": false,
     "tableResultSettingsMap": {},
     "title": ""
    }
   },
   "outputs": [],
   "source": [
    "result_driver = race_results.withColumn('win_position', race_results.position).select('raceId','driverId','win_position').distinct()\n",
    "pitstop_results_df = avg_pitstop_time.join(result_driver, on=['raceId','driverId'], how='inner').orderBy('win_position')\n",
    "display(pitstop_results_df)"
   ]
  },
  {
   "cell_type": "markdown",
   "metadata": {
    "application/vnd.databricks.v1+cell": {
     "cellMetadata": {
      "byteLimit": 2048000,
      "rowLimit": 10000
     },
     "inputWidgets": {},
     "nuid": "b936eda1-1b93-4381-a311-5fe01d1a069b",
     "showTitle": false,
     "tableResultSettingsMap": {},
     "title": ""
    }
   },
   "source": [
    "If a driver didn't finish, they will be assigned NA. 'win_position' = null/none for NA"
   ]
  },
  {
   "cell_type": "code",
   "execution_count": 0,
   "metadata": {
    "application/vnd.databricks.v1+cell": {
     "cellMetadata": {
      "byteLimit": 2048000,
      "rowLimit": 10000
     },
     "inputWidgets": {},
     "nuid": "eb0d5731-6c84-4aca-b10d-7d30e71fb042",
     "showTitle": false,
     "tableResultSettingsMap": {},
     "title": ""
    }
   },
   "outputs": [],
   "source": [
    "#overall ranking by pit stop times\n",
    "window_spec = Window.orderBy('avg_pitstop_time')  #ordering  by time in pitstop\n",
    "# ranking across ALL drivers for their pit stop times. \n",
    "ranked_pitstop_results_df = (pitstop_results_df\n",
    "    .withColumn('overall_pit_rank', F.row_number().over(window_spec))\n",
    "    .orderBy('win_position')  # Final sort by race finishing order\n",
    ")\n",
    "\n",
    "# Handle Did Not Finish drivers (assuming 'win_position' = null/none for NA)\n",
    "ranked_pitstop_results_df = ranked_pitstop_results_df.withColumn(\n",
    "    'race_position',\n",
    "    F.when(F.col('win_position').isNull(), 'NA')\n",
    "     .otherwise(F.col('win_position')))\n",
    "\n",
    "\n",
    "# Display the result\n",
    "display(ranked_pitstop_results_df)"
   ]
  },
  {
   "cell_type": "markdown",
   "metadata": {
    "application/vnd.databricks.v1+cell": {
     "cellMetadata": {
      "byteLimit": 2048000,
      "rowLimit": 10000
     },
     "inputWidgets": {},
     "nuid": "ba023845-8914-417b-b30c-e656baee6adf",
     "showTitle": false,
     "tableResultSettingsMap": {},
     "title": ""
    }
   },
   "source": [
    "###3.[20 pts] Insert the missing code (e.g: ALO for Alonso) for drivers based on the 'drivers' dataset\n"
   ]
  },
  {
   "cell_type": "code",
   "execution_count": 0,
   "metadata": {
    "application/vnd.databricks.v1+cell": {
     "cellMetadata": {
      "byteLimit": 2048000,
      "rowLimit": 10000
     },
     "collapsed": true,
     "inputWidgets": {},
     "nuid": "05e97299-37ba-4df9-9872-583b2cfafe57",
     "showTitle": false,
     "tableResultSettingsMap": {},
     "title": ""
    }
   },
   "outputs": [],
   "source": [
    "df_drivers= spark.read.csv('s3://columbia-gr5069-main/raw/drivers.csv', \n",
    "                            header=True)\n",
    "display(df_drivers)"
   ]
  },
  {
   "cell_type": "code",
   "execution_count": 0,
   "metadata": {
    "application/vnd.databricks.v1+cell": {
     "cellMetadata": {
      "byteLimit": 2048000,
      "rowLimit": 10000
     },
     "inputWidgets": {},
     "nuid": "9aa22c4d-90d4-4293-b5c9-f756b8026497",
     "showTitle": false,
     "tableResultSettingsMap": {},
     "title": ""
    }
   },
   "outputs": [],
   "source": [
    "%python\n",
    "# Update the 'code' column\n",
    "df_drivers = df_drivers.withColumn('code', upper(substring(col('surname'), 1, 3)))\n",
    "\n",
    "# Create the 'code_complete' column\n",
    "df_drivers = df_drivers.withColumn('code_complete', when(col('code') == '/N', 'N').otherwise('Y'))\n",
    "\n",
    "# Display the result\n",
    "display(df_drivers)"
   ]
  },
  {
   "cell_type": "markdown",
   "metadata": {
    "application/vnd.databricks.v1+cell": {
     "cellMetadata": {
      "byteLimit": 2048000,
      "rowLimit": 10000
     },
     "inputWidgets": {},
     "nuid": "760c89fb-f92e-47bd-8d5b-e004f29e268a",
     "showTitle": false,
     "tableResultSettingsMap": {},
     "title": ""
    }
   },
   "source": [
    "###4.[20 pts] Who is the youngest and oldest driver for each race? Create a new column called “Age”\n"
   ]
  },
  {
   "cell_type": "code",
   "execution_count": 0,
   "metadata": {
    "application/vnd.databricks.v1+cell": {
     "cellMetadata": {
      "byteLimit": 2048000,
      "rowLimit": 10000
     },
     "inputWidgets": {},
     "nuid": "9a602d34-999f-4b9d-b6d0-ccab6372fd06",
     "showTitle": false,
     "tableResultSettingsMap": {},
     "title": ""
    }
   },
   "outputs": [],
   "source": [
    "#First i will calculate the age using drivers dataframe and the column dob\n",
    "from pyspark.sql.functions import current_date, datediff, col\n",
    "\n",
    "df_drivers = df_drivers.withColumn('age', (datediff(current_date(), col('dob')) / 365.25).cast('int'))\n",
    "\n",
    "# Display the result\n",
    "display(df_drivers)\n",
    "\n",
    "#I could have divided by 365 but the 0.25 takes leap years into account"
   ]
  },
  {
   "cell_type": "code",
   "execution_count": 0,
   "metadata": {
    "application/vnd.databricks.v1+cell": {
     "cellMetadata": {
      "byteLimit": 2048000,
      "rowLimit": 10000
     },
     "inputWidgets": {},
     "nuid": "8dcc938c-4a59-4a1a-a471-7d2d8fa3a36b",
     "showTitle": false,
     "tableResultSettingsMap": {},
     "title": ""
    }
   },
   "outputs": [],
   "source": [
    "#Joining with race results for raceID\n",
    "race_results = race_results.join(df_drivers, on='driverId', how='inner')\n",
    "display(race_results)"
   ]
  },
  {
   "cell_type": "code",
   "execution_count": 0,
   "metadata": {
    "application/vnd.databricks.v1+cell": {
     "cellMetadata": {
      "byteLimit": 2048000,
      "rowLimit": 10000
     },
     "inputWidgets": {},
     "nuid": "210652a2-07f1-4567-b0bf-782c9c752d34",
     "showTitle": false,
     "tableResultSettingsMap": {},
     "title": ""
    }
   },
   "outputs": [],
   "source": [
    "#For each race ID, creating a df with oldest driver and youngest drivers' name and age\n",
    "oldest_youngest_df = race_results.groupBy('raceId').agg(F.max(F.col('age')).alias('oldest_age'), F.max(F.col('surname')).alias('oldest_surname'), F.min(F.col('age')).alias('youngest_age'), F.min(F.col('surname')).alias('youngest_surname'))\n",
    "display(oldest_youngest_df)\n",
    "     "
   ]
  },
  {
   "cell_type": "markdown",
   "metadata": {
    "application/vnd.databricks.v1+cell": {
     "cellMetadata": {
      "byteLimit": 2048000,
      "rowLimit": 10000
     },
     "inputWidgets": {},
     "nuid": "308f064e-80d5-4d8a-a579-f53637f465dc",
     "showTitle": false,
     "tableResultSettingsMap": {},
     "title": ""
    }
   },
   "source": [
    "###5.[20 pts] For a given race, which driver has the most wins and losses?"
   ]
  },
  {
   "cell_type": "code",
   "execution_count": 0,
   "metadata": {
    "application/vnd.databricks.v1+cell": {
     "cellMetadata": {
      "byteLimit": 2048000,
      "rowLimit": 10000
     },
     "inputWidgets": {},
     "nuid": "308dfd6a-09d6-431e-8113-d0fc5ba4e540",
     "showTitle": false,
     "tableResultSettingsMap": {},
     "title": ""
    }
   },
   "outputs": [],
   "source": [
    "\n",
    "#calculating which driver has most wins or loses for a race_id from results_df\n",
    "# Define window for driver's career up to CURRENT race\n",
    "window_spec = (Window\n",
    "    .partitionBy('driverId')\n",
    "    .orderBy('raceId')\n",
    "    .rowsBetween(Window.unboundedPreceding, -1)  # Exclude current race-- counting wins for all races preceeding current race! (for cumulative count)\n",
    ")\n",
    "#creating column total_wins for all wins before current race (basically, this is the cumulative win count). same for losses.\n",
    "wins_losses_df = pitstop_results_df.withColumn(\n",
    "    'total_wins', \n",
    "    F.sum(F.when(F.col('win_position') == 1, 1).otherwise(0)).over(window_spec) #adding 1 to total_wins everytime win_positon=1\n",
    ").withColumn(\n",
    "    'career_losses',\n",
    "    F.sum(\n",
    "        F.when(\n",
    "            (F.col('win_position') > 1) &  # Finished race but loss!\n",
    "            (F.col('win_position').isNotNull()),  # When race wasn't finished, we don't want it in loss count!-- Exclude NAs\n",
    "            1\n",
    "        ).otherwise(0)\n",
    "    ).over(window_spec)\n",
    ")\n",
    "display(wins_losses_df)"
   ]
  },
  {
   "cell_type": "markdown",
   "metadata": {
    "application/vnd.databricks.v1+cell": {
     "cellMetadata": {
      "byteLimit": 2048000,
      "rowLimit": 10000
     },
     "inputWidgets": {},
     "nuid": "c656e800-33d9-4bfd-b28c-b3a02be9032b",
     "showTitle": false,
     "tableResultSettingsMap": {},
     "title": ""
    }
   },
   "source": [
    "###6.[10 pts] Continue exploring the data by answering your own question.\n",
    "My Question:Which drivers have won the most races overall? I want to see the best performers"
   ]
  },
  {
   "cell_type": "code",
   "execution_count": 0,
   "metadata": {
    "application/vnd.databricks.v1+cell": {
     "cellMetadata": {
      "byteLimit": 2048000,
      "rowLimit": 10000
     },
     "inputWidgets": {},
     "nuid": "0f637696-d617-4562-a085-68de812dd9aa",
     "showTitle": false,
     "tableResultSettingsMap": {},
     "title": ""
    }
   },
   "outputs": [],
   "source": [
    "#fetch df_standings\n",
    "df_standings = spark.read.csv('s3://columbia-gr5069-main/raw/driver_standings.csv', header=True)"
   ]
  },
  {
   "cell_type": "code",
   "execution_count": 0,
   "metadata": {
    "application/vnd.databricks.v1+cell": {
     "cellMetadata": {
      "byteLimit": 2048000,
      "rowLimit": 10000
     },
     "inputWidgets": {},
     "nuid": "00e54542-8f0e-4280-8713-a9d0c91d23c4",
     "showTitle": false,
     "tableResultSettingsMap": {},
     "title": ""
    }
   },
   "outputs": [],
   "source": [
    "#combine df_standings and df_drivers\n",
    "df_standings = df_standings.join(df_drivers, on='driverId', how='inner')\n",
    "display(df_standings)"
   ]
  },
  {
   "cell_type": "code",
   "execution_count": 0,
   "metadata": {
    "application/vnd.databricks.v1+cell": {
     "cellMetadata": {
      "byteLimit": 2048000,
      "rowLimit": 10000
     },
     "inputWidgets": {},
     "nuid": "d9eaf324-a048-4339-9770-8e361d7fbeba",
     "showTitle": false,
     "tableResultSettingsMap": {},
     "title": ""
    }
   },
   "outputs": [],
   "source": [
    "df_sum_win = df_standings.groupBy('driverId','surname').agg(sum('wins').alias('wins_count'))\n",
    "# want descending order\n",
    "df_sum_win = df_sum_win.orderBy(col('wins_count').desc())\n",
    "display(df_sum_win)"
   ]
  }
 ],
 "metadata": {
  "application/vnd.databricks.v1+notebook": {
   "computePreferences": null,
   "dashboards": [],
   "environmentMetadata": {
    "base_environment": "",
    "environment_version": "2"
   },
   "language": "python",
   "notebookMetadata": {
    "pythonIndentUnit": 4
   },
   "notebookName": "Take-home HW#2",
   "widgets": {}
  },
  "language_info": {
   "name": "python"
  }
 },
 "nbformat": 4,
 "nbformat_minor": 0
}
